{
 "metadata": {
  "name": ""
 },
 "nbformat": 3,
 "nbformat_minor": 0,
 "worksheets": [
  {
   "cells": [
    {
     "cell_type": "heading",
     "level": 2,
     "metadata": {},
     "source": [
      "Project Overview"
     ]
    },
    {
     "cell_type": "markdown",
     "metadata": {},
     "source": [
      "The goal of this project was to due some exploratory analaysis of debater data and the speaker points awarded to debaters by judges. In a policy debate competition, two teams of speakers compete (the affirmative side, which proposes a plan, and the negative side, which counters the plan) against each other and are judged by a single judge. The judge awards each debater a certain score, called speaker points, that falls between 0 and 30 based on how effectively they presented their arguments. Because judges vary in their experience and familiarity with policy debate, these scores may vary strongly from judge to judge. Recently, several judges in the policy debate circuit came forward and admitted to openly inflating the speaker points of certain debaters. In depth analysis of the data collected should reveal quite a bit. Finally toward the end of this project, I outline what the next steps would be to building a predictive model for understanding the way certain judges will rate certain debaters."
     ]
    },
    {
     "cell_type": "heading",
     "level": 2,
     "metadata": {},
     "source": [
      "Setup"
     ]
    },
    {
     "cell_type": "code",
     "collapsed": false,
     "input": [
      "%matplotlib inline\n",
      "\n",
      "import json\n",
      "\n",
      "import requests\n",
      "import pandas as pd\n",
      "import numpy as np\n",
      "import matplotlib.pyplot as plt\n",
      "\n",
      "import copy\n",
      "import scipy.stats as sp\n",
      "\n",
      "pd.set_option('display.width', 500)\n",
      "pd.set_option('display.max_columns', 30)\n",
      "\n",
      "# set some nicer defaults for matplotlib\n",
      "from matplotlib import rcParams\n",
      "\n",
      "#these colors come from colorbrewer2.org. Each is an RGB triplet\n",
      "dark2_colors = [(0.10588235294117647, 0.6196078431372549, 0.4666666666666667),\n",
      "                (0.8509803921568627, 0.37254901960784315, 0.00784313725490196),\n",
      "                (0.4588235294117647, 0.4392156862745098, 0.7019607843137254),\n",
      "                (0.9058823529411765, 0.1607843137254902, 0.5411764705882353),\n",
      "                (0.4, 0.6509803921568628, 0.11764705882352941),\n",
      "                (0.9019607843137255, 0.6705882352941176, 0.00784313725490196),\n",
      "                (0.6509803921568628, 0.4627450980392157, 0.11372549019607843),\n",
      "                (0.4, 0.4, 0.4)]\n",
      "\n",
      "rcParams['figure.figsize'] = (10, 6)\n",
      "rcParams['figure.dpi'] = 150\n",
      "rcParams['axes.color_cycle'] = dark2_colors\n",
      "rcParams['lines.linewidth'] = 2\n",
      "rcParams['axes.grid'] = False\n",
      "rcParams['axes.facecolor'] = 'white'\n",
      "rcParams['font.size'] = 14\n",
      "rcParams['patch.edgecolor'] = 'none'\n",
      "\n",
      "\n",
      "def remove_border(axes=None, top=False, right=False, left=True, bottom=True):\n",
      "    \"\"\"\n",
      "    Minimize chartjunk by stripping out unnecessary plot borders and axis ticks\n",
      "    \n",
      "    The top/right/left/bottom keywords toggle whether the corresponding plot border is drawn\n",
      "    \"\"\"\n",
      "    ax = axes or plt.gca()\n",
      "    ax.spines['top'].set_visible(top)\n",
      "    ax.spines['right'].set_visible(right)\n",
      "    ax.spines['left'].set_visible(left)\n",
      "    ax.spines['bottom'].set_visible(bottom)\n",
      "    \n",
      "    #turn off all ticks\n",
      "    ax.yaxis.set_ticks_position('none')\n",
      "    ax.xaxis.set_ticks_position('none')\n",
      "    \n",
      "    #now re-enable visibles\n",
      "    if top:\n",
      "        ax.xaxis.tick_top()\n",
      "    if bottom:\n",
      "        ax.xaxis.tick_bottom()\n",
      "    if left:\n",
      "        ax.yaxis.tick_left()\n",
      "    if right:\n",
      "        ax.yaxis.tick_right()"
     ],
     "language": "python",
     "metadata": {},
     "outputs": [],
     "prompt_number": 32
    },
    {
     "cell_type": "markdown",
     "metadata": {},
     "source": [
      "This data came in the form of Microsoft Access databases. After running some queries to get the data desired, it was exported  as a text file. This text file was then converted into a json file. After this, that file weas loaded and dataframes were built out of it in order to most effectively explore and visualize the data. "
     ]
    },
    {
     "cell_type": "code",
     "collapsed": false,
     "input": [
      "def to_json(i, o):\n",
      "    input = open(i, 'r')\n",
      "    output = open(o, 'w')\n",
      "    rows = [row for row in input]\n",
      "    rounds = []\n",
      "    for row in rows[1:]:\n",
      "        ID, T, JudgeID, JudgeSchool, A1ID, A2ID, N1ID, N2ID, A1School, A2School, N1School, N2School, PA1, PA2, PN1, PN2, Win = row.split(',')\n",
      "        round = {'tournament':T, 'judge':{'ID':JudgeID, 'school':JudgeSchool},\n",
      "                    'debaters':[{'ID':A1ID, 'school':A1School, 'position':'Affirmative', 'speaker points': PA1},\n",
      "                    {'ID':A2ID, 'school':A2School, 'position':'Affirmative', 'speaker points': PA2},\n",
      "                    {'ID':N1ID, 'school':N1School, 'position':'Negative', 'speaker points': PN1},\n",
      "                    {'ID':N2ID, 'school':N2School, 'position':'Negative', 'speaker points': PN2}], 'win':Win[0]}\n",
      "        rounds.append(round)\n",
      "    string = json.dumps(rounds)\n",
      "    output.write(string)\n",
      "    input.close()\n",
      "    output.close()"
     ],
     "language": "python",
     "metadata": {},
     "outputs": [],
     "prompt_number": 33
    },
    {
     "cell_type": "code",
     "collapsed": false,
     "input": [
      "#LOAD DATA\n",
      "json_data=open('data/2010-2011.json')\n",
      "data_2010_2011 = json.load(json_data)\n"
     ],
     "language": "python",
     "metadata": {},
     "outputs": [],
     "prompt_number": 34
    },
    {
     "cell_type": "code",
     "collapsed": false,
     "input": [
      "#Creates a dataframe from our json\n",
      "def load_df(data):\n",
      "    \n",
      "    d = dict()\n",
      "    \n",
      "    d['round'] = [i/4 for i in range(4*len(data))]\n",
      "    d['tournament'] = []\n",
      "    d['judge ID'] = []\n",
      "    d['judge school'] = []\n",
      "    d['debater ID'] = []\n",
      "    d['debater school'] = []\n",
      "    d['speaker points'] = []\n",
      "    d['debater side'] = []\n",
      "    d['win'] = []\n",
      "    \n",
      "    for r in data:\n",
      "        for i in range(4):\n",
      "            d['tournament'].append(r['tournament'])\n",
      "            d['judge ID'].append(r['judge']['ID'])\n",
      "            d['judge school'].append(r['judge']['school'])\n",
      "            d['win'].append(r['win'])\n",
      "\n",
      "        d['debater ID'].append(r['debaters'][0]['ID'])\n",
      "        d['debater ID'].append(r['debaters'][1]['ID'])\n",
      "        d['debater ID'].append(r['debaters'][2]['ID'])\n",
      "        d['debater ID'].append(r['debaters'][3]['ID'])\n",
      "        d['debater school'].append(r['debaters'][0]['school'])\n",
      "        d['debater school'].append(r['debaters'][1]['school'])\n",
      "        d['debater school'].append(r['debaters'][2]['school'])\n",
      "        d['debater school'].append(r['debaters'][3]['school'])\n",
      "        d['speaker points'].append(float(r['debaters'][0]['speaker points']))\n",
      "        d['speaker points'].append(float(r['debaters'][1]['speaker points']))\n",
      "        d['speaker points'].append(float(r['debaters'][2]['speaker points']))\n",
      "        d['speaker points'].append(float(r['debaters'][3]['speaker points']))\n",
      "        d['debater side'].append(r['debaters'][0]['position'])\n",
      "        d['debater side'].append(r['debaters'][1]['position'])\n",
      "        d['debater side'].append(r['debaters'][2]['position'])\n",
      "        d['debater side'].append(r['debaters'][3]['position'])\n",
      "    \n",
      "    df = pd.DataFrame.from_dict(d)\n",
      "    df.index = range(len(data)*4)\n",
      "    \n",
      "    return df\n"
     ],
     "language": "python",
     "metadata": {},
     "outputs": [],
     "prompt_number": 35
    },
    {
     "cell_type": "code",
     "collapsed": false,
     "input": [
      "#A small subset of our data frame for the years 2010-2011\n",
      "df_2010_2011 = load_df(data_2010_2011)\n",
      "df_2010_2011.head(10)"
     ],
     "language": "python",
     "metadata": {},
     "outputs": [
      {
       "html": [
        "<div style=\"max-height:1000px;max-width:1500px;overflow:auto;\">\n",
        "<table border=\"1\" class=\"dataframe\">\n",
        "  <thead>\n",
        "    <tr style=\"text-align: right;\">\n",
        "      <th></th>\n",
        "      <th>debater ID</th>\n",
        "      <th>debater school</th>\n",
        "      <th>debater side</th>\n",
        "      <th>judge ID</th>\n",
        "      <th>judge school</th>\n",
        "      <th>round</th>\n",
        "      <th>speaker points</th>\n",
        "      <th>tournament</th>\n",
        "      <th>win</th>\n",
        "    </tr>\n",
        "  </thead>\n",
        "  <tbody>\n",
        "    <tr>\n",
        "      <th>0</th>\n",
        "      <td> 28960</td>\n",
        "      <td>  67</td>\n",
        "      <td> Affirmative</td>\n",
        "      <td> 2922</td>\n",
        "      <td> 55</td>\n",
        "      <td> 0</td>\n",
        "      <td> 27.0</td>\n",
        "      <td> 2</td>\n",
        "      <td> 0</td>\n",
        "    </tr>\n",
        "    <tr>\n",
        "      <th>1</th>\n",
        "      <td> 28958</td>\n",
        "      <td>  67</td>\n",
        "      <td> Affirmative</td>\n",
        "      <td> 2922</td>\n",
        "      <td> 55</td>\n",
        "      <td> 0</td>\n",
        "      <td> 27.5</td>\n",
        "      <td> 2</td>\n",
        "      <td> 0</td>\n",
        "    </tr>\n",
        "    <tr>\n",
        "      <th>2</th>\n",
        "      <td> 26601</td>\n",
        "      <td>  51</td>\n",
        "      <td>    Negative</td>\n",
        "      <td> 2922</td>\n",
        "      <td> 55</td>\n",
        "      <td> 0</td>\n",
        "      <td> 27.7</td>\n",
        "      <td> 2</td>\n",
        "      <td> 0</td>\n",
        "    </tr>\n",
        "    <tr>\n",
        "      <th>3</th>\n",
        "      <td> 26599</td>\n",
        "      <td>  51</td>\n",
        "      <td>    Negative</td>\n",
        "      <td> 2922</td>\n",
        "      <td> 55</td>\n",
        "      <td> 0</td>\n",
        "      <td> 27.9</td>\n",
        "      <td> 2</td>\n",
        "      <td> 0</td>\n",
        "    </tr>\n",
        "    <tr>\n",
        "      <th>4</th>\n",
        "      <td> 23156</td>\n",
        "      <td> 164</td>\n",
        "      <td> Affirmative</td>\n",
        "      <td> 9130</td>\n",
        "      <td> 46</td>\n",
        "      <td> 1</td>\n",
        "      <td> 28.0</td>\n",
        "      <td> 2</td>\n",
        "      <td> 1</td>\n",
        "    </tr>\n",
        "    <tr>\n",
        "      <th>5</th>\n",
        "      <td> 26632</td>\n",
        "      <td> 164</td>\n",
        "      <td> Affirmative</td>\n",
        "      <td> 9130</td>\n",
        "      <td> 46</td>\n",
        "      <td> 1</td>\n",
        "      <td> 28.2</td>\n",
        "      <td> 2</td>\n",
        "      <td> 1</td>\n",
        "    </tr>\n",
        "    <tr>\n",
        "      <th>6</th>\n",
        "      <td> 23357</td>\n",
        "      <td>   1</td>\n",
        "      <td>    Negative</td>\n",
        "      <td> 9130</td>\n",
        "      <td> 46</td>\n",
        "      <td> 1</td>\n",
        "      <td> 28.1</td>\n",
        "      <td> 2</td>\n",
        "      <td> 1</td>\n",
        "    </tr>\n",
        "    <tr>\n",
        "      <th>7</th>\n",
        "      <td> 23355</td>\n",
        "      <td>   1</td>\n",
        "      <td>    Negative</td>\n",
        "      <td> 9130</td>\n",
        "      <td> 46</td>\n",
        "      <td> 1</td>\n",
        "      <td> 27.7</td>\n",
        "      <td> 2</td>\n",
        "      <td> 1</td>\n",
        "    </tr>\n",
        "    <tr>\n",
        "      <th>8</th>\n",
        "      <td> 26633</td>\n",
        "      <td> 164</td>\n",
        "      <td> Affirmative</td>\n",
        "      <td> 7912</td>\n",
        "      <td> 63</td>\n",
        "      <td> 2</td>\n",
        "      <td> 28.7</td>\n",
        "      <td> 2</td>\n",
        "      <td> 1</td>\n",
        "    </tr>\n",
        "    <tr>\n",
        "      <th>9</th>\n",
        "      <td> 26635</td>\n",
        "      <td> 164</td>\n",
        "      <td> Affirmative</td>\n",
        "      <td> 7912</td>\n",
        "      <td> 63</td>\n",
        "      <td> 2</td>\n",
        "      <td> 28.2</td>\n",
        "      <td> 2</td>\n",
        "      <td> 1</td>\n",
        "    </tr>\n",
        "  </tbody>\n",
        "</table>\n",
        "</div>"
       ],
       "metadata": {},
       "output_type": "pyout",
       "prompt_number": 36,
       "text": [
        "  debater ID debater school debater side judge ID judge school  round  speaker points tournament win\n",
        "0      28960             67  Affirmative     2922           55      0            27.0          2   0\n",
        "1      28958             67  Affirmative     2922           55      0            27.5          2   0\n",
        "2      26601             51     Negative     2922           55      0            27.7          2   0\n",
        "3      26599             51     Negative     2922           55      0            27.9          2   0\n",
        "4      23156            164  Affirmative     9130           46      1            28.0          2   1\n",
        "5      26632            164  Affirmative     9130           46      1            28.2          2   1\n",
        "6      23357              1     Negative     9130           46      1            28.1          2   1\n",
        "7      23355              1     Negative     9130           46      1            27.7          2   1\n",
        "8      26633            164  Affirmative     7912           63      2            28.7          2   1\n",
        "9      26635            164  Affirmative     7912           63      2            28.2          2   1"
       ]
      }
     ],
     "prompt_number": 36
    },
    {
     "cell_type": "heading",
     "level": 2,
     "metadata": {},
     "source": [
      "Exploration"
     ]
    },
    {
     "cell_type": "markdown",
     "metadata": {},
     "source": [
      "One of the largest challenges expected was the difficulty of working with a sparse data set. Because there were so many debaters and judges in the data, it was expected that each judge would only have rated a few debaters, making the data set very sparse. In order to visualize exactly how sparse the data was, a histogram was created showing the proportion of total debaters each judge had rated. "
     ]
    },
    {
     "cell_type": "code",
     "collapsed": false,
     "input": [
      "#visualize the sparseness of our data \n",
      "import matplotlib.pyplot as plt\n",
      "def visualize_sparseness(df) : \n",
      "    judge_ids = list(set(df['judge ID']))\n",
      "    deb_ids = list(set(df['debater ID']))\n",
      "    num_debaters = len(deb_ids)\n",
      "    proportion_debs_rated = [float(len(set(df[df['judge ID'] == j]['debater ID'])))/num_debaters for j in judge_ids]\n",
      "    plt.hist(proportion_debs_rated,bins=len(set(proportion_debs_rated))) \n",
      "    plt.ylabel('Count')\n",
      "    plt.xlabel('Proportion of Debaters Rated')\n",
      "    plt.title('Proportion of Debaters Rated by Judges')\n",
      "    remove_border()\n",
      "    plt.show()\n",
      "\n",
      "    \n"
     ],
     "language": "python",
     "metadata": {},
     "outputs": [],
     "prompt_number": 37
    },
    {
     "cell_type": "markdown",
     "metadata": {},
     "source": [
      "An example of the sparseness of our data can be seen below. For the data from 2010-2011, the majority of judges had rated less than 10% of the total debaters. "
     ]
    },
    {
     "cell_type": "code",
     "collapsed": false,
     "input": [
      "#An example of how sparse our data set is \n",
      "visualize_sparseness(df_2010_2011)"
     ],
     "language": "python",
     "metadata": {},
     "outputs": [
      {
       "metadata": {},
       "output_type": "display_data",
       "png": "[encoded data removed]",
       "text": [
        "<matplotlib.figure.Figure at 0x5546eb8>"
       ]
      }
     ],
     "prompt_number": 38
    },
    {
     "cell_type": "markdown",
     "metadata": {},
     "source": [
      "Below, are a series of helper functions used to explore and get more information about the data."
     ]
    },
    {
     "cell_type": "code",
     "collapsed": false,
     "input": [
      "#Returns a list containing all scores assigned to a particular data\n",
      "def get_debater_scores(df, debater):\n",
      "    return list(df[df['debater ID'] == debater]['speaker points'])  \n",
      " \n",
      "#Returns a list containing all scores assigned by a particular judge           \n",
      "def get_judge_ratings(df, judge):\n",
      "    return list(df[df['judge ID'] == judge]['speaker points'])  "
     ],
     "language": "python",
     "metadata": {},
     "outputs": [],
     "prompt_number": 39
    },
    {
     "cell_type": "code",
     "collapsed": false,
     "input": [
      "#returns the mean and standard deviation of speaker points awarded to a given debater\n",
      "def calculate_debater_stats (df,debater) : \n",
      "    speaks = get_debater_scores(df,debater)\n",
      "    return np.mean(speaks),np.std(speaks)\n",
      "            "
     ],
     "language": "python",
     "metadata": {},
     "outputs": [],
     "prompt_number": 40
    },
    {
     "cell_type": "code",
     "collapsed": false,
     "input": [
      "#calculate the mean and standard deviation of speaker points awarded by a given judge\n",
      "def calculate_judge_stats(df,judge):\n",
      "    speaks = get_judge_ratings(df,judge) \n",
      "    return np.mean(speaks),np.std(speaks)\n"
     ],
     "language": "python",
     "metadata": {},
     "outputs": [],
     "prompt_number": 41
    },
    {
     "cell_type": "code",
     "collapsed": false,
     "input": [
      "#Returns the mean of all speaker points awarded \n",
      "def get_avg_speaks(df): \n",
      "    return np.mean(df['speaker points'])"
     ],
     "language": "python",
     "metadata": {},
     "outputs": [],
     "prompt_number": 42
    },
    {
     "cell_type": "code",
     "collapsed": false,
     "input": [
      "#looks up a debater's school, returns None if the debater is not in the data\n",
      "def find_debater_school (df,debater) : \n",
      "    if not(debater in list(df['debater ID'])) : \n",
      "        return None\n",
      "    else :\n",
      "        return list(df[df['debater ID'] == debater]['debater school'])[0]\n",
      "             "
     ],
     "language": "python",
     "metadata": {},
     "outputs": [],
     "prompt_number": 43
    },
    {
     "cell_type": "code",
     "collapsed": false,
     "input": [
      "#looks up a judge's school, return None if the judge is not in the data\n",
      "def find_judge_school(df,judge) : \n",
      "    if not(judge in list(df['judge ID'])) : \n",
      "        return None\n",
      "    else :\n",
      "        return list(df[df['judge ID'] == judge]['judge school'])[0]"
     ],
     "language": "python",
     "metadata": {},
     "outputs": [],
     "prompt_number": 44
    },
    {
     "cell_type": "code",
     "collapsed": false,
     "input": [
      "#returns a list of speaker points awarded to a given debater by a given judge, returns an empty list if the judge or debater is not in the data\n",
      "def get_speaker_points (df,judge,debater) : \n",
      "    judge_df = df[df['judge ID'] == judge]\n",
      "    return list(judge_df[judge_df['debater ID'] == debater]['speaker points'])"
     ],
     "language": "python",
     "metadata": {},
     "outputs": [],
     "prompt_number": 45
    },
    {
     "cell_type": "code",
     "collapsed": false,
     "input": [
      "#returns a list of all the tournaments a judge has judged at \n",
      "def get_tournament_numbers_judge (df,judge) : \n",
      "    return list(set(df[df['judge ID'] == judge]['tournament']))\n",
      "\n",
      "#returns a list of all the tournaments a debater has judged at \n",
      "def get_tournament_numbers_debater (df, debater) : \n",
      "    return list(set(df[df['debater ID'] == debater]['tournament']))\n",
      "    "
     ],
     "language": "python",
     "metadata": {},
     "outputs": [],
     "prompt_number": 46
    },
    {
     "cell_type": "code",
     "collapsed": false,
     "input": [
      "#plots a histogram of all the speaker points awarded\n",
      "def plot_speaks(df) : \n",
      "    plt.hist(list(df['speaker points']),bins = len(set(df['speaker points'])),log = True)\n",
      "    plt.ylabel('Count (log)')\n",
      "    plt.xlabel('Speaker Points')\n",
      "    plt.title('Speaker Points Awarded')\n",
      "    remove_border()\n",
      "    plt.show()\n",
      "    \n",
      "#plots a histogram of the average scores awarded by each judge\n",
      "def plot_judge_means (df): \n",
      "    grouped_df = df.groupby('judge ID')\n",
      "    means = list(grouped_df.aggregate(np.mean)['speaker points'])\n",
      "    plt.hist(means,bins=len(set(means)), log=False) \n",
      "    plt.ylabel('Count')\n",
      "    plt.xlabel('Average Points')\n",
      "    plt.title('Average Speaker Points Given by Judges')\n",
      "    remove_border()\n",
      "    plt.show()\n",
      "\n",
      "#plots a histogram of the average scores awarded to each debater\n",
      "def plot_debater_means (df) :\n",
      "    grouped_df = df.groupby('debater ID')\n",
      "    means = list(grouped_df.aggregate(np.mean)['speaker points'])\n",
      "    plt.hist(means,bins=len(set(means)), log=False) \n",
      "    plt.ylabel('Count')\n",
      "    plt.xlabel('Average Points')\n",
      "    plt.title('Average Speaker Points Given to Debaters')\n",
      "    remove_border()\n",
      "    plt.show()\n",
      "\n",
      "\n",
      "\n"
     ],
     "language": "python",
     "metadata": {},
     "outputs": [],
     "prompt_number": 47
    },
    {
     "cell_type": "markdown",
     "metadata": {},
     "source": [
      "Using these helper functions, some quick visualizations of the data from 2010-2011 were made. The distributions of all speaker points awarded were graphed, as well as the average speaker points given to each debater and the average speaker points given by each judge. As can be seen below, there were many abnormalities in the data that prevent us from getting a clear picture of the distribution. "
     ]
    },
    {
     "cell_type": "code",
     "collapsed": false,
     "input": [
      "plot_speaks(df_2010_2011)\n",
      "plt.plot()\n",
      "plot_judge_means(df_2010_2011)\n",
      "plt.plot()\n",
      "plot_debater_means(df_2010_2011)\n",
      "\n"
     ],
     "language": "python",
     "metadata": {},
     "outputs": [
      {
       "metadata": {},
       "output_type": "display_data",
       "png": "[encoded data removed]",
       "text": [
        "<matplotlib.figure.Figure at 0x8c482e8>"
       ]
      },
      {
       "metadata": {},
       "output_type": "display_data",
       "png": "[encoded data removed]",
       "text": [
        "<matplotlib.figure.Figure at 0xc519518>"
       ]
      },
      {
       "metadata": {},
       "output_type": "display_data",
       "png": "[encoded data removed]",
       "text": [
        "<matplotlib.figure.Figure at 0x8dc7e10>"
       ]
      }
     ],
     "prompt_number": 48
    },
    {
     "cell_type": "heading",
     "level": 2,
     "metadata": {},
     "source": [
      "Data Cleaning"
     ]
    },
    {
     "cell_type": "markdown",
     "metadata": {},
     "source": [
      "After exploring the data further, several features were found that were preventing us from getting a clear visualization of the distribution of the data : "
     ]
    },
    {
     "cell_type": "markdown",
     "metadata": {},
     "source": [
      "* For some debate rounds, all four debaters were awarded zeros. This most likely occurred because the debaters did not show up to the round, or the arguments made were so offensive they did not merit any points. This could also indicate a mistake in data collection. \n",
      "* Some tournaments experimented with speaker points scales other than the traditional 20-30 range. Some tournaments judged on a 0-100 score, while others used a 0-10 rating scale. \n",
      "* Some speaker points had negative values. It is unclear why this happened.\n",
      "\n",
      "It is also important to realize that by tradition, nearly every score falls i nthe 25-30 range, making any score much smaller than 25 extremely suspicious.\n",
      "\n",
      "Based on this information, it was decided that only rounds where all four scores were awarded on a 20-30 point range would be included and any data that did not fit into this scale would be dropped. Rounds where only one or two debaters received a zero were kept, as this could happen if the arguments made by that debater were particularly offensive. This data was filtered out of the json file, and then  a new data frame was created out of it."
     ]
    },
    {
     "cell_type": "code",
     "collapsed": false,
     "input": [
      "#a function that returns True if the data is good (no speaker points less than zero or greater than 30,\n",
      "#no rounds where every debater has 0 speaker points, no data on a 0-10 point scale\n",
      "def bad_data (d) : \n",
      "    ret = True\n",
      "    all_zeros = True \n",
      "    if d['tournament'] == '103' : \n",
      "        ret = False\n",
      "    for j in d['debaters'] : \n",
      "        speaks = float(j['speaker points'])\n",
      "        if (speaks > 0 and speaks < 20) : \n",
      "            ret = False\n",
      "        if speaks > 0. :\n",
      "            all_zeros = False\n",
      "        ret &= (speaks >= 0. and speaks <= 30.)\n",
      "    ret &= not all_zeros\n",
      "    return ret"
     ],
     "language": "python",
     "metadata": {},
     "outputs": [],
     "prompt_number": 49
    },
    {
     "cell_type": "code",
     "collapsed": false,
     "input": [
      "#filters out bad data  \n",
      "def remove_bad_data(data):\n",
      "    return filter(bad_data,data)"
     ],
     "language": "python",
     "metadata": {},
     "outputs": [],
     "prompt_number": 50
    },
    {
     "cell_type": "code",
     "collapsed": false,
     "input": [
      "#tests our filter to make sure it is running correctly \n",
      "def test_remove_data (d) : \n",
      "    for j in d : \n",
      "        all_zeros = True \n",
      "        for i in j['debaters'] : \n",
      "            if (float(i['speaker points'] > 0 or float(i['speaker points']) < 0)) : \n",
      "                all_zeros = False\n",
      "            assert(float(i['speaker points']) >= 0. and float(i['speaker points']) <= 30.)\n",
      "            assert(not(float(i['speaker points']) > 0 and float(i['speaker points'] <= 20)))\n",
      "        assert(all_zeros == False)\n",
      "\n",
      "            "
     ],
     "language": "python",
     "metadata": {},
     "outputs": [],
     "prompt_number": 51
    },
    {
     "cell_type": "code",
     "collapsed": false,
     "input": [
      "#Creating our new data frame from the filtered data, and looking at the first few rows\n",
      "revised_data_2010_2011 = remove_bad_data(data_2010_2011)\n",
      "test_remove_data(revised_data_2010_2011)\n",
      "df_2010_2011 = load_df(revised_data_2010_2011)\n",
      "df_2010_2011.head(10)\n"
     ],
     "language": "python",
     "metadata": {},
     "outputs": [
      {
       "html": [
        "<div style=\"max-height:1000px;max-width:1500px;overflow:auto;\">\n",
        "<table border=\"1\" class=\"dataframe\">\n",
        "  <thead>\n",
        "    <tr style=\"text-align: right;\">\n",
        "      <th></th>\n",
        "      <th>debater ID</th>\n",
        "      <th>debater school</th>\n",
        "      <th>debater side</th>\n",
        "      <th>judge ID</th>\n",
        "      <th>judge school</th>\n",
        "      <th>round</th>\n",
        "      <th>speaker points</th>\n",
        "      <th>tournament</th>\n",
        "      <th>win</th>\n",
        "    </tr>\n",
        "  </thead>\n",
        "  <tbody>\n",
        "    <tr>\n",
        "      <th>0</th>\n",
        "      <td> 28960</td>\n",
        "      <td>  67</td>\n",
        "      <td> Affirmative</td>\n",
        "      <td> 2922</td>\n",
        "      <td> 55</td>\n",
        "      <td> 0</td>\n",
        "      <td> 27.0</td>\n",
        "      <td> 2</td>\n",
        "      <td> 0</td>\n",
        "    </tr>\n",
        "    <tr>\n",
        "      <th>1</th>\n",
        "      <td> 28958</td>\n",
        "      <td>  67</td>\n",
        "      <td> Affirmative</td>\n",
        "      <td> 2922</td>\n",
        "      <td> 55</td>\n",
        "      <td> 0</td>\n",
        "      <td> 27.5</td>\n",
        "      <td> 2</td>\n",
        "      <td> 0</td>\n",
        "    </tr>\n",
        "    <tr>\n",
        "      <th>2</th>\n",
        "      <td> 26601</td>\n",
        "      <td>  51</td>\n",
        "      <td>    Negative</td>\n",
        "      <td> 2922</td>\n",
        "      <td> 55</td>\n",
        "      <td> 0</td>\n",
        "      <td> 27.7</td>\n",
        "      <td> 2</td>\n",
        "      <td> 0</td>\n",
        "    </tr>\n",
        "    <tr>\n",
        "      <th>3</th>\n",
        "      <td> 26599</td>\n",
        "      <td>  51</td>\n",
        "      <td>    Negative</td>\n",
        "      <td> 2922</td>\n",
        "      <td> 55</td>\n",
        "      <td> 0</td>\n",
        "      <td> 27.9</td>\n",
        "      <td> 2</td>\n",
        "      <td> 0</td>\n",
        "    </tr>\n",
        "    <tr>\n",
        "      <th>4</th>\n",
        "      <td> 23156</td>\n",
        "      <td> 164</td>\n",
        "      <td> Affirmative</td>\n",
        "      <td> 9130</td>\n",
        "      <td> 46</td>\n",
        "      <td> 1</td>\n",
        "      <td> 28.0</td>\n",
        "      <td> 2</td>\n",
        "      <td> 1</td>\n",
        "    </tr>\n",
        "    <tr>\n",
        "      <th>5</th>\n",
        "      <td> 26632</td>\n",
        "      <td> 164</td>\n",
        "      <td> Affirmative</td>\n",
        "      <td> 9130</td>\n",
        "      <td> 46</td>\n",
        "      <td> 1</td>\n",
        "      <td> 28.2</td>\n",
        "      <td> 2</td>\n",
        "      <td> 1</td>\n",
        "    </tr>\n",
        "    <tr>\n",
        "      <th>6</th>\n",
        "      <td> 23357</td>\n",
        "      <td>   1</td>\n",
        "      <td>    Negative</td>\n",
        "      <td> 9130</td>\n",
        "      <td> 46</td>\n",
        "      <td> 1</td>\n",
        "      <td> 28.1</td>\n",
        "      <td> 2</td>\n",
        "      <td> 1</td>\n",
        "    </tr>\n",
        "    <tr>\n",
        "      <th>7</th>\n",
        "      <td> 23355</td>\n",
        "      <td>   1</td>\n",
        "      <td>    Negative</td>\n",
        "      <td> 9130</td>\n",
        "      <td> 46</td>\n",
        "      <td> 1</td>\n",
        "      <td> 27.7</td>\n",
        "      <td> 2</td>\n",
        "      <td> 1</td>\n",
        "    </tr>\n",
        "    <tr>\n",
        "      <th>8</th>\n",
        "      <td> 26633</td>\n",
        "      <td> 164</td>\n",
        "      <td> Affirmative</td>\n",
        "      <td> 7912</td>\n",
        "      <td> 63</td>\n",
        "      <td> 2</td>\n",
        "      <td> 28.7</td>\n",
        "      <td> 2</td>\n",
        "      <td> 1</td>\n",
        "    </tr>\n",
        "    <tr>\n",
        "      <th>9</th>\n",
        "      <td> 26635</td>\n",
        "      <td> 164</td>\n",
        "      <td> Affirmative</td>\n",
        "      <td> 7912</td>\n",
        "      <td> 63</td>\n",
        "      <td> 2</td>\n",
        "      <td> 28.2</td>\n",
        "      <td> 2</td>\n",
        "      <td> 1</td>\n",
        "    </tr>\n",
        "  </tbody>\n",
        "</table>\n",
        "</div>"
       ],
       "metadata": {},
       "output_type": "pyout",
       "prompt_number": 52,
       "text": [
        "  debater ID debater school debater side judge ID judge school  round  speaker points tournament win\n",
        "0      28960             67  Affirmative     2922           55      0            27.0          2   0\n",
        "1      28958             67  Affirmative     2922           55      0            27.5          2   0\n",
        "2      26601             51     Negative     2922           55      0            27.7          2   0\n",
        "3      26599             51     Negative     2922           55      0            27.9          2   0\n",
        "4      23156            164  Affirmative     9130           46      1            28.0          2   1\n",
        "5      26632            164  Affirmative     9130           46      1            28.2          2   1\n",
        "6      23357              1     Negative     9130           46      1            28.1          2   1\n",
        "7      23355              1     Negative     9130           46      1            27.7          2   1\n",
        "8      26633            164  Affirmative     7912           63      2            28.7          2   1\n",
        "9      26635            164  Affirmative     7912           63      2            28.2          2   1"
       ]
      }
     ],
     "prompt_number": 52
    },
    {
     "cell_type": "markdown",
     "metadata": {},
     "source": [
      "After cleaning the data, we see that the distribution of speaker points is much easier to visualize and work with. It is interesting to note that the majority of speaker points awarded appear to fall between 25 and 30, and that the average speaker points awarded by judges and received by debaters are even higher(ranging from 26-29). This falls in line with the suspicion that many judges may be artificially inflating speaker points. "
     ]
    },
    {
     "cell_type": "code",
     "collapsed": false,
     "input": [
      "plot_speaks(df_2010_2011)\n",
      "plt.plot()\n",
      "plot_judge_means(df_2010_2011)\n",
      "plt.plot()\n",
      "plot_debater_means(df_2010_2011)\n"
     ],
     "language": "python",
     "metadata": {},
     "outputs": [
      {
       "metadata": {},
       "output_type": "display_data",
       "png": "[encoded data removed]",
       "text": [
        "<matplotlib.figure.Figure at 0x8c4bb00>"
       ]
      },
      {
       "metadata": {},
       "output_type": "display_data",
       "png": "[encoded data removed]",
       "text": [
        "<matplotlib.figure.Figure at 0xd35b8d0>"
       ]
      },
      {
       "metadata": {},
       "output_type": "display_data",
       "png": "[encoded data removed]",
       "text": [
        "<matplotlib.figure.Figure at 0x8fd1a58>"
       ]
      }
     ],
     "prompt_number": 53
    },
    {
     "cell_type": "heading",
     "level": 2,
     "metadata": {},
     "source": [
      "Potential Extension - Building a Model"
     ]
    },
    {
     "cell_type": "markdown",
     "metadata": {},
     "source": [
      "A latent factor model for speaker points is proposed. \n",
      "\n",
      "Notation: The score a debater $d$ receives from a judge $j$ is denoted as $Y_{j,d}$. We model this score $Y_{j,d}$ as the sum of two random variables. The first, denoted $P_d$, represents the quality of a performance by debater $d$. The second, denoted $N_j$, represents the noise with which judge $j$ observes the quality of the preformance. \n",
      "\n",
      "$$Y_{i,j} = P_d + N_j$$\n",
      "\n",
      "It is assumed that performance quality $P_d$ is distributed normally. Its mean $\\mu_d$ is the ground-truth \"true skill\" of $d$, and its variance $\\sigma^2_d$ is the degree of inconsistency $d$ has in his/her performances.\n",
      "\n",
      "$$P_d \\sim Normal(\\mu_d,\\sigma^2_d)$$\n",
      "\n",
      "Likewise, it is assumed that judge noise $N_j$ is similarly modeled. Here, the mean $\\mu_j$ refers to the judge's bias, which reflects if they are generous or skimpy with points, for example. The variance $\\sigma^2_j$ reflects the inconsistency with which they observe a performance, and is a measure of how much their assigned scores vary if they were to observe several performances of the same quality.\n",
      "\n",
      "$N_j \\sim Normal(\\mu_j,\\sigma^2_j)$\n",
      "\n",
      "Thus we have a set of latent factors. We have a $\\mu_d$ and a $\\sigma^2_d$ for each debater, and a $\\mu_j$ and a $\\sigma_j$ for each judge.\n",
      "\n",
      "We assume the priors over these are as follows:\n",
      "\n",
      "$$\\mu_d \\sim Normal(\\mu,\\sigma^2_\\alpha)$$\n",
      "$$\\mu_j \\sim Normal(0,\\sigma^2_\\beta)$$\n",
      "$$\\sigma^2_d \\sim InvChiSquared(v_\\alpha)$$\n",
      "$$\\sigma^2_j \\sim InvChiSquared(v_\\beta)$$\n",
      "\n",
      "Here, $\\mu$ is the global mean rating. $\\sigma^2_\\alpha$ and $\\sigma^2_\\beta$ are parameters we adjust for good fit. $v_\\alpha$ and $v_\\beta$ are the degreed of freedom for our variance latent factors, in this case $2$.\n",
      "\n",
      "Because the data is so sparse, it would be unwise to try and learn these latent factors using EM. Instead it is proposed that one employ Gibbs sampling (for our means) and Metropolis-Hastings sampling (for variances). "
     ]
    },
    {
     "cell_type": "heading",
     "level": 2,
     "metadata": {},
     "source": [
      "Proposed Validation"
     ]
    },
    {
     "cell_type": "markdown",
     "metadata": {},
     "source": [
      "Testing this model could be done through cross-validation. We could randomly hold out one round, train our model on the rest of the data, and then attempt to predict the scores assigned in the hold-out round. \n",
      "\n",
      "In doing so we must think carefully about what sort of loss function to use. One simple option would be to measure the root mean square error using the difference between our predicted score and the actual score given to the debater. However, this might not be the best measure of the accuracy of the proposed model given the differences in variance among judges and debaters. For example, if we mis-predicted the score awarded to a debater by .5 points for a debater with a variance of 2, our prediction would have been more accurate than if we had mis-predicted by the same amount for a debater with a variance of 0.1. To take this into account, it proposed that the differences in the probability of achieving the predicted result and the probability of achieving the actual result based on the model be used. It is then proposed that we find the root mean square error of all of these differences. "
     ]
    }
   ],
   "metadata": {}
  }
 ]
}